{
 "cells": [
  {
   "cell_type": "code",
   "execution_count": 97,
   "metadata": {
    "collapsed": true
   },
   "outputs": [],
   "source": [
    "### RUN THIS CELL TO SET UP ###\n",
    "from datascience import *\n",
    "import numpy as np\n",
    "\n",
    "%matplotlib inline\n",
    "import matplotlib.pyplot as plots\n",
    "plots.style.use('fivethirtyeight')"
   ]
  },
  {
   "cell_type": "code",
   "execution_count": 98,
   "metadata": {
    "collapsed": true
   },
   "outputs": [],
   "source": [
    "### Loading in the data ###\n",
    "master = Table.read_table(\"master.csv\")"
   ]
  },
  {
   "cell_type": "code",
   "execution_count": 99,
   "metadata": {
    "collapsed": false
   },
   "outputs": [
    {
     "data": {
      "text/plain": [
       "[int, str, str, int, int, str, str, str, str, int, int, int]"
      ]
     },
     "execution_count": 99,
     "metadata": {},
     "output_type": "execute_result"
    }
   ],
   "source": [
    "### Data types for master.csv ###\n",
    "dts = [type(master.column(i).item(0)) for i in np.arange(master.num_columns)]\n",
    "dts"
   ]
  },
  {
   "cell_type": "code",
   "execution_count": 100,
   "metadata": {
    "collapsed": false
   },
   "outputs": [],
   "source": [
    "### Segmenting the data set ###\n",
    "master7_24 = master.where(8, \"19:00\").where(4, 24)\n",
    "master7_28 = master.where(8, \"19:00\").where(4, 28)\n",
    "master8_24 = master.where(8, \"20:00\").where(4, 24)\n",
    "master8_26 = master.where(8, \"20:00\").where(4, 26)\n",
    "master9_24 = master.where(8, \"21:00\").where(4, 24)\n",
    "\n",
    "masters = [master7_24, master7_28, master8_24, master8_26, master9_24]"
   ]
  },
  {
   "cell_type": "code",
   "execution_count": 101,
   "metadata": {
    "collapsed": false
   },
   "outputs": [
    {
     "data": {
      "text/html": [
       "<table border=\"1\" class=\"dataframe\">\n",
       "    <thead>\n",
       "        <tr>\n",
       "            <th>StoreID</th> <th>Store Type</th> <th>Store Location</th> <th>Associates per Open Hour\r",
       "Pre 4/5/2016</th> <th>Associates per Open Hour\r",
       "Post 4/5/2016</th> <th>Open Time Pre 4/5/2016</th> <th>Open Time Post 4/5/2016</th> <th>Close Time Pre 4/5/2016</th> <th>Close Time Post 4/5/2016</th> <th>Store Age</th> <th>Population within 5mi\r",
       "(1000s)</th> <th>Competition within 5mi</th>\n",
       "        </tr>\n",
       "    </thead>\n",
       "    <tbody>\n",
       "        <tr>\n",
       "            <td>1      </td> <td>Standalone</td> <td>Urban         </td> <td>24                                   </td> <td>24                                    </td> <td>7:00                  </td> <td>7:00                   </td> <td>21:00                  </td> <td>21:00                   </td> <td>8        </td> <td>388                          </td> <td>45                    </td>\n",
       "        </tr>\n",
       "    </tbody>\n",
       "        <tr>\n",
       "            <td>2      </td> <td>Standalone</td> <td>Suburban      </td> <td>24                                   </td> <td>24                                    </td> <td>7:00                  </td> <td>7:00                   </td> <td>21:00                  </td> <td>21:00                   </td> <td>38       </td> <td>66                           </td> <td>45                    </td>\n",
       "        </tr>\n",
       "    </tbody>\n",
       "        <tr>\n",
       "            <td>3      </td> <td>Standalone</td> <td>Urban         </td> <td>24                                   </td> <td>24                                    </td> <td>7:00                  </td> <td>7:00                   </td> <td>21:00                  </td> <td>21:00                   </td> <td>36       </td> <td>13                           </td> <td>6                     </td>\n",
       "        </tr>\n",
       "    </tbody>\n",
       "        <tr>\n",
       "            <td>4      </td> <td>Strip Mall</td> <td>Suburban      </td> <td>24                                   </td> <td>24                                    </td> <td>7:00                  </td> <td>7:00                   </td> <td>21:00                  </td> <td>21:00                   </td> <td>39       </td> <td>4                            </td> <td>8                     </td>\n",
       "        </tr>\n",
       "    </tbody>\n",
       "        <tr>\n",
       "            <td>5      </td> <td>Standalone</td> <td>Suburban      </td> <td>24                                   </td> <td>24                                    </td> <td>7:00                  </td> <td>7:00                   </td> <td>21:00                  </td> <td>21:00                   </td> <td>20       </td> <td>111                          </td> <td>3                     </td>\n",
       "        </tr>\n",
       "    </tbody>\n",
       "        <tr>\n",
       "            <td>6      </td> <td>Standalone</td> <td>Suburban      </td> <td>24                                   </td> <td>24                                    </td> <td>7:00                  </td> <td>7:00                   </td> <td>21:00                  </td> <td>21:00                   </td> <td>36       </td> <td>269                          </td> <td>6                     </td>\n",
       "        </tr>\n",
       "    </tbody>\n",
       "        <tr>\n",
       "            <td>7      </td> <td>Standalone</td> <td>Urban         </td> <td>24                                   </td> <td>24                                    </td> <td>7:00                  </td> <td>7:00                   </td> <td>21:00                  </td> <td>21:00                   </td> <td>22       </td> <td>115                          </td> <td>3                     </td>\n",
       "        </tr>\n",
       "    </tbody>\n",
       "        <tr>\n",
       "            <td>9      </td> <td>Standalone</td> <td>Suburban      </td> <td>24                                   </td> <td>24                                    </td> <td>7:00                  </td> <td>7:00                   </td> <td>21:00                  </td> <td>21:00                   </td> <td>26       </td> <td>279                          </td> <td>7                     </td>\n",
       "        </tr>\n",
       "    </tbody>\n",
       "        <tr>\n",
       "            <td>10     </td> <td>Strip Mall</td> <td>Suburban      </td> <td>24                                   </td> <td>24                                    </td> <td>7:00                  </td> <td>7:00                   </td> <td>21:00                  </td> <td>21:00                   </td> <td>37       </td> <td>30                           </td> <td>59                    </td>\n",
       "        </tr>\n",
       "    </tbody>\n",
       "        <tr>\n",
       "            <td>13     </td> <td>Standalone</td> <td>Suburban      </td> <td>24                                   </td> <td>24                                    </td> <td>7:00                  </td> <td>7:00                   </td> <td>21:00                  </td> <td>21:00                   </td> <td>35       </td> <td>151                          </td> <td>18                    </td>\n",
       "        </tr>\n",
       "    </tbody>\n",
       "</table>\n",
       "<p>... (353 rows omitted)</p"
      ],
      "text/plain": [
       "StoreID | Store Type | Store Location | Associates per Open Hour\n",
       "Pre 4/5/2016 | Associates per Open Hour\n",
       "Post 4/5/2016 | Open Time Pre 4/5/2016 | Open Time Post 4/5/2016 | Close Time Pre 4/5/2016 | Close Time Post 4/5/2016 | Store Age | Population within 5mi\n",
       "(1000s) | Competition within 5mi\n",
       "1       | Standalone | Urban          | 24                                    | 24                                     | 7:00                   | 7:00                    | 21:00                   | 21:00                    | 8         | 388                           | 45\n",
       "2       | Standalone | Suburban       | 24                                    | 24                                     | 7:00                   | 7:00                    | 21:00                   | 21:00                    | 38        | 66                            | 45\n",
       "3       | Standalone | Urban          | 24                                    | 24                                     | 7:00                   | 7:00                    | 21:00                   | 21:00                    | 36        | 13                            | 6\n",
       "4       | Strip Mall | Suburban       | 24                                    | 24                                     | 7:00                   | 7:00                    | 21:00                   | 21:00                    | 39        | 4                             | 8\n",
       "5       | Standalone | Suburban       | 24                                    | 24                                     | 7:00                   | 7:00                    | 21:00                   | 21:00                    | 20        | 111                           | 3\n",
       "6       | Standalone | Suburban       | 24                                    | 24                                     | 7:00                   | 7:00                    | 21:00                   | 21:00                    | 36        | 269                           | 6\n",
       "7       | Standalone | Urban          | 24                                    | 24                                     | 7:00                   | 7:00                    | 21:00                   | 21:00                    | 22        | 115                           | 3\n",
       "9       | Standalone | Suburban       | 24                                    | 24                                     | 7:00                   | 7:00                    | 21:00                   | 21:00                    | 26        | 279                           | 7\n",
       "10      | Strip Mall | Suburban       | 24                                    | 24                                     | 7:00                   | 7:00                    | 21:00                   | 21:00                    | 37        | 30                            | 59\n",
       "13      | Standalone | Suburban       | 24                                    | 24                                     | 7:00                   | 7:00                    | 21:00                   | 21:00                    | 35        | 151                           | 18\n",
       "... (353 rows omitted)"
      ]
     },
     "execution_count": 101,
     "metadata": {},
     "output_type": "execute_result"
    }
   ],
   "source": [
    "master9_24"
   ]
  },
  {
   "cell_type": "code",
   "execution_count": 102,
   "metadata": {
    "collapsed": false
   },
   "outputs": [],
   "source": [
    "def avg_before_after(data):\n",
    "    store_id = data[0]\n",
    "    data = data[1:53]\n",
    "    before = data[0:14]\n",
    "    after = data[14:]\n",
    "    before_avg = np.average(before)\n",
    "    after_avg = np.average(after)\n",
    "    return [store_id, before_avg, after_avg]\n",
    "\n",
    "def update_financial_data(table):\n",
    "\n",
    "    new = Table().with_columns(\"StoreID\", [],\n",
    "                              \"before\", [],\n",
    "                              \"after\", [])\n",
    "    for i in np.arange(table.num_rows):\n",
    "        results = avg_before_after(table.row(i))\n",
    "        new = new.with_row(results)\n",
    "\n",
    "    return new\n",
    "    "
   ]
  },
  {
   "cell_type": "code",
   "execution_count": 103,
   "metadata": {
    "collapsed": false
   },
   "outputs": [],
   "source": [
    "### financial data ###\n",
    "fin6_7 = update_financial_data(Table.read_table(\"financials6p_7p.csv\"))\n",
    "fin7_6 = update_financial_data(Table.read_table(\"financials7a_6p.csv\"))\n",
    "fin7_8 = update_financial_data(Table.read_table(\"financials7p_8p.csv\"))\n",
    "fin8_9 = update_financial_data(Table.read_table(\"financials8p_9p.csv\"))\n",
    "\n",
    "financial_data = [fin6_7, fin7_6, fin7_8, fin8_9]\n",
    "\n",
    "# for f in financial_data:\n",
    "#     f.show(10)"
   ]
  },
  {
   "cell_type": "code",
   "execution_count": 106,
   "metadata": {
    "collapsed": false
   },
   "outputs": [],
   "source": [
    "### exporting to csv ###\n",
    "\n",
    "master7_24.to_csv('master7_24.csv')\n",
    "master7_28.to_csv('master7_28.csv')\n",
    "master8_24.to_csv('master8_24.csv')\n",
    "master8_26.to_csv('master8_26.csv')\n",
    "master9_24.to_csv('master9_24.csv')\n",
    "fin6_7.to_csv('fin6_7.csv')\n",
    "fin7_6.to_csv('fin7_6.csv')\n",
    "fin7_8.to_csv('fin7_8.csv')\n",
    "fin8_9.to_csv('fin8_9.csv')"
   ]
  },
  {
   "cell_type": "code",
   "execution_count": 105,
   "metadata": {
    "collapsed": false
   },
   "outputs": [],
   "source": [
    "masters = [master7_24, master7_28, master8_24, master8_26, master9_24]"
   ]
  },
  {
   "cell_type": "code",
   "execution_count": null,
   "metadata": {
    "collapsed": true
   },
   "outputs": [],
   "source": []
  }
 ],
 "metadata": {
  "kernelspec": {
   "display_name": "Python 3",
   "language": "python",
   "name": "python3"
  },
  "language_info": {
   "codemirror_mode": {
    "name": "ipython",
    "version": 3
   },
   "file_extension": ".py",
   "mimetype": "text/x-python",
   "name": "python",
   "nbconvert_exporter": "python",
   "pygments_lexer": "ipython3",
   "version": "3.6.0"
  }
 },
 "nbformat": 4,
 "nbformat_minor": 2
}
