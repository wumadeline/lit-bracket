{
 "cells": [
  {
   "cell_type": "code",
   "execution_count": 4,
   "metadata": {
    "collapsed": true
   },
   "outputs": [],
   "source": [
    "### RUN THIS CELL TO SET UP ###\n",
    "from datascience import *\n",
    "import numpy as np\n",
    "\n",
    "%matplotlib inline\n",
    "import matplotlib.pyplot as plots\n",
    "plots.style.use('fivethirtyeight')"
   ]
  },
  {
   "cell_type": "code",
   "execution_count": 5,
   "metadata": {
    "collapsed": true
   },
   "outputs": [],
   "source": [
    "### Loading in the data ###\n",
    "master = Table.read_table(\"master.csv\")"
   ]
  },
  {
   "cell_type": "code",
   "execution_count": 6,
   "metadata": {
    "collapsed": false
   },
   "outputs": [
    {
     "data": {
      "text/html": [
       "<table border=\"1\" class=\"dataframe\">\n",
       "    <thead>\n",
       "        <tr>\n",
       "            <th>StoreID</th> <th>Store Type</th> <th>Store Location</th> <th>Associates per Open Hour\r",
       "Pre 4/5/2016</th> <th>Associates per Open Hour\r",
       "Post 4/5/2016</th> <th>Open Time Pre 4/5/2016</th> <th>Open Time Post 4/5/2016</th> <th>Close Time Pre 4/5/2016</th> <th>Close Time Post 4/5/2016</th> <th>Store Age</th> <th>Population within 5mi\r",
       "(1000s)</th> <th>Competition within 5mi</th>\n",
       "        </tr>\n",
       "    </thead>\n",
       "    <tbody>\n",
       "        <tr>\n",
       "            <td>1      </td> <td>Standalone</td> <td>Urban         </td> <td>24                                   </td> <td>24                                    </td> <td>7:00                  </td> <td>7:00                   </td> <td>21:00                  </td> <td>21:00                   </td> <td>8        </td> <td>388                          </td> <td>45                    </td>\n",
       "        </tr>\n",
       "    </tbody>\n",
       "        <tr>\n",
       "            <td>2      </td> <td>Standalone</td> <td>Suburban      </td> <td>24                                   </td> <td>24                                    </td> <td>7:00                  </td> <td>7:00                   </td> <td>21:00                  </td> <td>21:00                   </td> <td>38       </td> <td>66                           </td> <td>45                    </td>\n",
       "        </tr>\n",
       "    </tbody>\n",
       "        <tr>\n",
       "            <td>3      </td> <td>Standalone</td> <td>Urban         </td> <td>24                                   </td> <td>24                                    </td> <td>7:00                  </td> <td>7:00                   </td> <td>21:00                  </td> <td>21:00                   </td> <td>36       </td> <td>13                           </td> <td>6                     </td>\n",
       "        </tr>\n",
       "    </tbody>\n",
       "        <tr>\n",
       "            <td>4      </td> <td>Strip Mall</td> <td>Suburban      </td> <td>24                                   </td> <td>24                                    </td> <td>7:00                  </td> <td>7:00                   </td> <td>21:00                  </td> <td>21:00                   </td> <td>39       </td> <td>4                            </td> <td>8                     </td>\n",
       "        </tr>\n",
       "    </tbody>\n",
       "        <tr>\n",
       "            <td>5      </td> <td>Standalone</td> <td>Suburban      </td> <td>24                                   </td> <td>24                                    </td> <td>7:00                  </td> <td>7:00                   </td> <td>21:00                  </td> <td>21:00                   </td> <td>20       </td> <td>111                          </td> <td>3                     </td>\n",
       "        </tr>\n",
       "    </tbody>\n",
       "        <tr>\n",
       "            <td>6      </td> <td>Standalone</td> <td>Suburban      </td> <td>24                                   </td> <td>24                                    </td> <td>7:00                  </td> <td>7:00                   </td> <td>21:00                  </td> <td>21:00                   </td> <td>36       </td> <td>269                          </td> <td>6                     </td>\n",
       "        </tr>\n",
       "    </tbody>\n",
       "        <tr>\n",
       "            <td>7      </td> <td>Standalone</td> <td>Urban         </td> <td>24                                   </td> <td>24                                    </td> <td>7:00                  </td> <td>7:00                   </td> <td>21:00                  </td> <td>21:00                   </td> <td>22       </td> <td>115                          </td> <td>3                     </td>\n",
       "        </tr>\n",
       "    </tbody>\n",
       "        <tr>\n",
       "            <td>8      </td> <td>Standalone</td> <td>Urban         </td> <td>24                                   </td> <td>28                                    </td> <td>7:00                  </td> <td>7:00                   </td> <td>21:00                  </td> <td>19:00                   </td> <td>29       </td> <td>369                          </td> <td>8                     </td>\n",
       "        </tr>\n",
       "    </tbody>\n",
       "        <tr>\n",
       "            <td>9      </td> <td>Standalone</td> <td>Suburban      </td> <td>24                                   </td> <td>24                                    </td> <td>7:00                  </td> <td>7:00                   </td> <td>21:00                  </td> <td>21:00                   </td> <td>26       </td> <td>279                          </td> <td>7                     </td>\n",
       "        </tr>\n",
       "    </tbody>\n",
       "        <tr>\n",
       "            <td>10     </td> <td>Strip Mall</td> <td>Suburban      </td> <td>24                                   </td> <td>24                                    </td> <td>7:00                  </td> <td>7:00                   </td> <td>21:00                  </td> <td>21:00                   </td> <td>37       </td> <td>30                           </td> <td>59                    </td>\n",
       "        </tr>\n",
       "    </tbody>\n",
       "</table>\n",
       "<p>... (473 rows omitted)</p"
      ],
      "text/plain": [
       "StoreID | Store Type | Store Location | Associates per Open Hour\n",
       "Pre 4/5/2016 | Associates per Open Hour\n",
       "Post 4/5/2016 | Open Time Pre 4/5/2016 | Open Time Post 4/5/2016 | Close Time Pre 4/5/2016 | Close Time Post 4/5/2016 | Store Age | Population within 5mi\n",
       "(1000s) | Competition within 5mi\n",
       "1       | Standalone | Urban          | 24                                    | 24                                     | 7:00                   | 7:00                    | 21:00                   | 21:00                    | 8         | 388                           | 45\n",
       "2       | Standalone | Suburban       | 24                                    | 24                                     | 7:00                   | 7:00                    | 21:00                   | 21:00                    | 38        | 66                            | 45\n",
       "3       | Standalone | Urban          | 24                                    | 24                                     | 7:00                   | 7:00                    | 21:00                   | 21:00                    | 36        | 13                            | 6\n",
       "4       | Strip Mall | Suburban       | 24                                    | 24                                     | 7:00                   | 7:00                    | 21:00                   | 21:00                    | 39        | 4                             | 8\n",
       "5       | Standalone | Suburban       | 24                                    | 24                                     | 7:00                   | 7:00                    | 21:00                   | 21:00                    | 20        | 111                           | 3\n",
       "6       | Standalone | Suburban       | 24                                    | 24                                     | 7:00                   | 7:00                    | 21:00                   | 21:00                    | 36        | 269                           | 6\n",
       "7       | Standalone | Urban          | 24                                    | 24                                     | 7:00                   | 7:00                    | 21:00                   | 21:00                    | 22        | 115                           | 3\n",
       "8       | Standalone | Urban          | 24                                    | 28                                     | 7:00                   | 7:00                    | 21:00                   | 19:00                    | 29        | 369                           | 8\n",
       "9       | Standalone | Suburban       | 24                                    | 24                                     | 7:00                   | 7:00                    | 21:00                   | 21:00                    | 26        | 279                           | 7\n",
       "10      | Strip Mall | Suburban       | 24                                    | 24                                     | 7:00                   | 7:00                    | 21:00                   | 21:00                    | 37        | 30                            | 59\n",
       "... (473 rows omitted)"
      ]
     },
     "execution_count": 6,
     "metadata": {},
     "output_type": "execute_result"
    }
   ],
   "source": [
    "master"
   ]
  },
  {
   "cell_type": "code",
   "execution_count": 12,
   "metadata": {
    "collapsed": false
   },
   "outputs": [
    {
     "data": {
      "text/plain": [
       "483"
      ]
     },
     "execution_count": 12,
     "metadata": {},
     "output_type": "execute_result"
    }
   ],
   "source": [
    "master.num_rows"
   ]
  },
  {
   "cell_type": "code",
   "execution_count": null,
   "metadata": {
    "collapsed": true
   },
   "outputs": [],
   "source": []
  }
 ],
 "metadata": {
  "kernelspec": {
   "display_name": "Python 3",
   "language": "python",
   "name": "python3"
  },
  "language_info": {
   "codemirror_mode": {
    "name": "ipython",
    "version": 3
   },
   "file_extension": ".py",
   "mimetype": "text/x-python",
   "name": "python",
   "nbconvert_exporter": "python",
   "pygments_lexer": "ipython3",
   "version": "3.6.0"
  }
 },
 "nbformat": 4,
 "nbformat_minor": 2
}
