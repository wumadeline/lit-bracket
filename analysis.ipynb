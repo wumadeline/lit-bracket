{
 "cells": [
  {
   "cell_type": "code",
   "execution_count": 76,
   "metadata": {
    "collapsed": true
   },
   "outputs": [],
   "source": [
    "### RUN THIS CELL TO SET UP ###\n",
    "from datascience import *\n",
    "import numpy as np\n",
    "\n",
    "%matplotlib inline\n",
    "import matplotlib.pyplot as plots\n",
    "plots.style.use('fivethirtyeight')"
   ]
  },
  {
   "cell_type": "code",
   "execution_count": 77,
   "metadata": {
    "collapsed": true
   },
   "outputs": [],
   "source": [
    "### Loading in the data ###\n",
    "master = Table.read_table(\"master.csv\")"
   ]
  },
  {
   "cell_type": "code",
   "execution_count": 78,
   "metadata": {
    "collapsed": false
   },
   "outputs": [
    {
     "data": {
      "text/plain": [
       "[int, str, str, int, int, str, str, str, str, int, int, int]"
      ]
     },
     "execution_count": 78,
     "metadata": {},
     "output_type": "execute_result"
    }
   ],
   "source": [
    "### Data types for master.csv ###\n",
    "dts = [type(master.column(i).item(0)) for i in np.arange(master.num_columns)]\n",
    "dts"
   ]
  },
  {
   "cell_type": "code",
   "execution_count": 79,
   "metadata": {
    "collapsed": false
   },
   "outputs": [],
   "source": [
    "### Segmenting the data set ###\n",
    "master7_24 = master.where(8, \"19:00\").where(4, 24)\n",
    "master7_28 = master.where(8, \"19:00\").where(4, 28)\n",
    "master8_24 = master.where(8, \"20:00\").where(4, 24)\n",
    "master8_28 = master.where(8, \"20:00\").where(4, 28)\n",
    "master9_24 = master.where(8, \"21:00\").where(4, 24)"
   ]
  },
  {
   "cell_type": "code",
   "execution_count": 80,
   "metadata": {
    "collapsed": false
   },
   "outputs": [
    {
     "data": {
      "text/html": [
       "<table border=\"1\" class=\"dataframe\">\n",
       "    <thead>\n",
       "        <tr>\n",
       "            <th>StoreID</th> <th>Store Type</th> <th>Store Location</th> <th>Associates per Open Hour\r",
       "Pre 4/5/2016</th> <th>Associates per Open Hour\r",
       "Post 4/5/2016</th> <th>Open Time Pre 4/5/2016</th> <th>Open Time Post 4/5/2016</th> <th>Close Time Pre 4/5/2016</th> <th>Close Time Post 4/5/2016</th> <th>Store Age</th> <th>Population within 5mi\r",
       "(1000s)</th> <th>Competition within 5mi</th>\n",
       "        </tr>\n",
       "    </thead>\n",
       "    <tbody>\n",
       "        <tr>\n",
       "            <td>1      </td> <td>Standalone</td> <td>Urban         </td> <td>24                                   </td> <td>24                                    </td> <td>7:00                  </td> <td>7:00                   </td> <td>21:00                  </td> <td>21:00                   </td> <td>8        </td> <td>388                          </td> <td>45                    </td>\n",
       "        </tr>\n",
       "    </tbody>\n",
       "        <tr>\n",
       "            <td>2      </td> <td>Standalone</td> <td>Suburban      </td> <td>24                                   </td> <td>24                                    </td> <td>7:00                  </td> <td>7:00                   </td> <td>21:00                  </td> <td>21:00                   </td> <td>38       </td> <td>66                           </td> <td>45                    </td>\n",
       "        </tr>\n",
       "    </tbody>\n",
       "        <tr>\n",
       "            <td>3      </td> <td>Standalone</td> <td>Urban         </td> <td>24                                   </td> <td>24                                    </td> <td>7:00                  </td> <td>7:00                   </td> <td>21:00                  </td> <td>21:00                   </td> <td>36       </td> <td>13                           </td> <td>6                     </td>\n",
       "        </tr>\n",
       "    </tbody>\n",
       "        <tr>\n",
       "            <td>4      </td> <td>Strip Mall</td> <td>Suburban      </td> <td>24                                   </td> <td>24                                    </td> <td>7:00                  </td> <td>7:00                   </td> <td>21:00                  </td> <td>21:00                   </td> <td>39       </td> <td>4                            </td> <td>8                     </td>\n",
       "        </tr>\n",
       "    </tbody>\n",
       "        <tr>\n",
       "            <td>5      </td> <td>Standalone</td> <td>Suburban      </td> <td>24                                   </td> <td>24                                    </td> <td>7:00                  </td> <td>7:00                   </td> <td>21:00                  </td> <td>21:00                   </td> <td>20       </td> <td>111                          </td> <td>3                     </td>\n",
       "        </tr>\n",
       "    </tbody>\n",
       "        <tr>\n",
       "            <td>6      </td> <td>Standalone</td> <td>Suburban      </td> <td>24                                   </td> <td>24                                    </td> <td>7:00                  </td> <td>7:00                   </td> <td>21:00                  </td> <td>21:00                   </td> <td>36       </td> <td>269                          </td> <td>6                     </td>\n",
       "        </tr>\n",
       "    </tbody>\n",
       "        <tr>\n",
       "            <td>7      </td> <td>Standalone</td> <td>Urban         </td> <td>24                                   </td> <td>24                                    </td> <td>7:00                  </td> <td>7:00                   </td> <td>21:00                  </td> <td>21:00                   </td> <td>22       </td> <td>115                          </td> <td>3                     </td>\n",
       "        </tr>\n",
       "    </tbody>\n",
       "        <tr>\n",
       "            <td>9      </td> <td>Standalone</td> <td>Suburban      </td> <td>24                                   </td> <td>24                                    </td> <td>7:00                  </td> <td>7:00                   </td> <td>21:00                  </td> <td>21:00                   </td> <td>26       </td> <td>279                          </td> <td>7                     </td>\n",
       "        </tr>\n",
       "    </tbody>\n",
       "        <tr>\n",
       "            <td>10     </td> <td>Strip Mall</td> <td>Suburban      </td> <td>24                                   </td> <td>24                                    </td> <td>7:00                  </td> <td>7:00                   </td> <td>21:00                  </td> <td>21:00                   </td> <td>37       </td> <td>30                           </td> <td>59                    </td>\n",
       "        </tr>\n",
       "    </tbody>\n",
       "        <tr>\n",
       "            <td>13     </td> <td>Standalone</td> <td>Suburban      </td> <td>24                                   </td> <td>24                                    </td> <td>7:00                  </td> <td>7:00                   </td> <td>21:00                  </td> <td>21:00                   </td> <td>35       </td> <td>151                          </td> <td>18                    </td>\n",
       "        </tr>\n",
       "    </tbody>\n",
       "</table>\n",
       "<p>... (353 rows omitted)</p"
      ],
      "text/plain": [
       "StoreID | Store Type | Store Location | Associates per Open Hour\n",
       "Pre 4/5/2016 | Associates per Open Hour\n",
       "Post 4/5/2016 | Open Time Pre 4/5/2016 | Open Time Post 4/5/2016 | Close Time Pre 4/5/2016 | Close Time Post 4/5/2016 | Store Age | Population within 5mi\n",
       "(1000s) | Competition within 5mi\n",
       "1       | Standalone | Urban          | 24                                    | 24                                     | 7:00                   | 7:00                    | 21:00                   | 21:00                    | 8         | 388                           | 45\n",
       "2       | Standalone | Suburban       | 24                                    | 24                                     | 7:00                   | 7:00                    | 21:00                   | 21:00                    | 38        | 66                            | 45\n",
       "3       | Standalone | Urban          | 24                                    | 24                                     | 7:00                   | 7:00                    | 21:00                   | 21:00                    | 36        | 13                            | 6\n",
       "4       | Strip Mall | Suburban       | 24                                    | 24                                     | 7:00                   | 7:00                    | 21:00                   | 21:00                    | 39        | 4                             | 8\n",
       "5       | Standalone | Suburban       | 24                                    | 24                                     | 7:00                   | 7:00                    | 21:00                   | 21:00                    | 20        | 111                           | 3\n",
       "6       | Standalone | Suburban       | 24                                    | 24                                     | 7:00                   | 7:00                    | 21:00                   | 21:00                    | 36        | 269                           | 6\n",
       "7       | Standalone | Urban          | 24                                    | 24                                     | 7:00                   | 7:00                    | 21:00                   | 21:00                    | 22        | 115                           | 3\n",
       "9       | Standalone | Suburban       | 24                                    | 24                                     | 7:00                   | 7:00                    | 21:00                   | 21:00                    | 26        | 279                           | 7\n",
       "10      | Strip Mall | Suburban       | 24                                    | 24                                     | 7:00                   | 7:00                    | 21:00                   | 21:00                    | 37        | 30                            | 59\n",
       "13      | Standalone | Suburban       | 24                                    | 24                                     | 7:00                   | 7:00                    | 21:00                   | 21:00                    | 35        | 151                           | 18\n",
       "... (353 rows omitted)"
      ]
     },
     "execution_count": 80,
     "metadata": {},
     "output_type": "execute_result"
    }
   ],
   "source": [
    "master9_24"
   ]
  },
  {
   "cell_type": "code",
   "execution_count": 85,
   "metadata": {
    "collapsed": false
   },
   "outputs": [],
   "source": [
    "def avg_before_after(data):\n",
    "    store_id = data[0]\n",
    "    data = data[1:53]\n",
    "    before = data[0:14]\n",
    "    after = data[14:]\n",
    "    before_avg = np.average(before)\n",
    "    after_avg = np.average(after)\n",
    "    return [store_id, before_avg, after_avg]\n",
    "\n",
    "def update_financial_data(table):\n",
    "\n",
    "    new = Table().with_columns(\"StoreID\", [],\n",
    "                              \"before\", [],\n",
    "                              \"after\", [])\n",
    "    for i in np.arange(table.num_rows):\n",
    "        results = avg_before_after(table.row(i))\n",
    "        new = new.with_row(results)\n",
    "\n",
    "    return new\n",
    "    "
   ]
  },
  {
   "cell_type": "code",
   "execution_count": 90,
   "metadata": {
    "collapsed": false
   },
   "outputs": [
    {
     "data": {
      "text/html": [
       "<table border=\"1\" class=\"dataframe\">\n",
       "    <thead>\n",
       "        <tr>\n",
       "            <th>StoreID</th> <th>before</th> <th>after</th>\n",
       "        </tr>\n",
       "    </thead>\n",
       "    <tbody>\n",
       "        <tr>\n",
       "            <td>1      </td> <td>1356.93</td> <td>1466.03</td>\n",
       "        </tr>\n",
       "    </tbody>\n",
       "        <tr>\n",
       "            <td>2      </td> <td>540.714</td> <td>590.5  </td>\n",
       "        </tr>\n",
       "    </tbody>\n",
       "        <tr>\n",
       "            <td>3      </td> <td>1092.07</td> <td>1155.87</td>\n",
       "        </tr>\n",
       "    </tbody>\n",
       "        <tr>\n",
       "            <td>4      </td> <td>804.857</td> <td>936.053</td>\n",
       "        </tr>\n",
       "    </tbody>\n",
       "        <tr>\n",
       "            <td>5      </td> <td>1131.93</td> <td>1209.68</td>\n",
       "        </tr>\n",
       "    </tbody>\n",
       "        <tr>\n",
       "            <td>6      </td> <td>1348.64</td> <td>1497.5 </td>\n",
       "        </tr>\n",
       "    </tbody>\n",
       "        <tr>\n",
       "            <td>7      </td> <td>1110.29</td> <td>1244.24</td>\n",
       "        </tr>\n",
       "    </tbody>\n",
       "        <tr>\n",
       "            <td>8      </td> <td>1332.43</td> <td>1420   </td>\n",
       "        </tr>\n",
       "    </tbody>\n",
       "        <tr>\n",
       "            <td>9      </td> <td>1380.64</td> <td>1451.42</td>\n",
       "        </tr>\n",
       "    </tbody>\n",
       "        <tr>\n",
       "            <td>10     </td> <td>984.714</td> <td>1074.39</td>\n",
       "        </tr>\n",
       "    </tbody>\n",
       "</table>\n",
       "<p>... (473 rows omitted)</p"
      ],
      "text/plain": [
       "<IPython.core.display.HTML object>"
      ]
     },
     "metadata": {},
     "output_type": "display_data"
    },
    {
     "data": {
      "text/html": [
       "<table border=\"1\" class=\"dataframe\">\n",
       "    <thead>\n",
       "        <tr>\n",
       "            <th>StoreID</th> <th>before</th> <th>after</th>\n",
       "        </tr>\n",
       "    </thead>\n",
       "    <tbody>\n",
       "        <tr>\n",
       "            <td>1      </td> <td>16153  </td> <td>16303.4</td>\n",
       "        </tr>\n",
       "    </tbody>\n",
       "        <tr>\n",
       "            <td>2      </td> <td>6764.49</td> <td>6894.05</td>\n",
       "        </tr>\n",
       "    </tbody>\n",
       "        <tr>\n",
       "            <td>3      </td> <td>13627.6</td> <td>13465.1</td>\n",
       "        </tr>\n",
       "    </tbody>\n",
       "        <tr>\n",
       "            <td>4      </td> <td>9448.49</td> <td>10260.4</td>\n",
       "        </tr>\n",
       "    </tbody>\n",
       "        <tr>\n",
       "            <td>5      </td> <td>13698.3</td> <td>13669.7</td>\n",
       "        </tr>\n",
       "    </tbody>\n",
       "        <tr>\n",
       "            <td>6      </td> <td>18013.6</td> <td>18666.8</td>\n",
       "        </tr>\n",
       "    </tbody>\n",
       "        <tr>\n",
       "            <td>7      </td> <td>13077.8</td> <td>13669.2</td>\n",
       "        </tr>\n",
       "    </tbody>\n",
       "        <tr>\n",
       "            <td>8      </td> <td>15148.6</td> <td>14683.9</td>\n",
       "        </tr>\n",
       "    </tbody>\n",
       "        <tr>\n",
       "            <td>9      </td> <td>15515.8</td> <td>15221.7</td>\n",
       "        </tr>\n",
       "    </tbody>\n",
       "        <tr>\n",
       "            <td>10     </td> <td>12087.3</td> <td>12314.2</td>\n",
       "        </tr>\n",
       "    </tbody>\n",
       "</table>\n",
       "<p>... (473 rows omitted)</p"
      ],
      "text/plain": [
       "<IPython.core.display.HTML object>"
      ]
     },
     "metadata": {},
     "output_type": "display_data"
    },
    {
     "data": {
      "text/html": [
       "<table border=\"1\" class=\"dataframe\">\n",
       "    <thead>\n",
       "        <tr>\n",
       "            <th>StoreID</th> <th>before</th> <th>after</th>\n",
       "        </tr>\n",
       "    </thead>\n",
       "    <tbody>\n",
       "        <tr>\n",
       "            <td>1      </td> <td>835.929</td> <td>903.184</td>\n",
       "        </tr>\n",
       "    </tbody>\n",
       "        <tr>\n",
       "            <td>2      </td> <td>316.357</td> <td>345.342</td>\n",
       "        </tr>\n",
       "    </tbody>\n",
       "        <tr>\n",
       "            <td>3      </td> <td>640.143</td> <td>677.553</td>\n",
       "        </tr>\n",
       "    </tbody>\n",
       "        <tr>\n",
       "            <td>4      </td> <td>504.5  </td> <td>586.763</td>\n",
       "        </tr>\n",
       "    </tbody>\n",
       "        <tr>\n",
       "            <td>5      </td> <td>684.714</td> <td>731.947</td>\n",
       "        </tr>\n",
       "    </tbody>\n",
       "        <tr>\n",
       "            <td>6      </td> <td>741.929</td> <td>823.842</td>\n",
       "        </tr>\n",
       "    </tbody>\n",
       "        <tr>\n",
       "            <td>7      </td> <td>693.857</td> <td>777.579</td>\n",
       "        </tr>\n",
       "    </tbody>\n",
       "        <tr>\n",
       "            <td>8      </td> <td>915.786</td> <td>976.105</td>\n",
       "        </tr>\n",
       "    </tbody>\n",
       "        <tr>\n",
       "            <td>9      </td> <td>922.357</td> <td>969.605</td>\n",
       "        </tr>\n",
       "    </tbody>\n",
       "        <tr>\n",
       "            <td>10     </td> <td>587    </td> <td>640.263</td>\n",
       "        </tr>\n",
       "    </tbody>\n",
       "</table>\n",
       "<p>... (473 rows omitted)</p"
      ],
      "text/plain": [
       "<IPython.core.display.HTML object>"
      ]
     },
     "metadata": {},
     "output_type": "display_data"
    },
    {
     "data": {
      "text/html": [
       "<table border=\"1\" class=\"dataframe\">\n",
       "    <thead>\n",
       "        <tr>\n",
       "            <th>StoreID</th> <th>before</th> <th>after</th>\n",
       "        </tr>\n",
       "    </thead>\n",
       "    <tbody>\n",
       "        <tr>\n",
       "            <td>1      </td> <td>788.429</td> <td>851.842</td>\n",
       "        </tr>\n",
       "    </tbody>\n",
       "        <tr>\n",
       "            <td>2      </td> <td>271.786</td> <td>296.842</td>\n",
       "        </tr>\n",
       "    </tbody>\n",
       "        <tr>\n",
       "            <td>3      </td> <td>513.357</td> <td>543.316</td>\n",
       "        </tr>\n",
       "    </tbody>\n",
       "        <tr>\n",
       "            <td>4      </td> <td>455.143</td> <td>529.526</td>\n",
       "        </tr>\n",
       "    </tbody>\n",
       "        <tr>\n",
       "            <td>5      </td> <td>571.286</td> <td>610.605</td>\n",
       "        </tr>\n",
       "    </tbody>\n",
       "        <tr>\n",
       "            <td>6      </td> <td>587    </td> <td>651.816</td>\n",
       "        </tr>\n",
       "    </tbody>\n",
       "        <tr>\n",
       "            <td>7      </td> <td>619.357</td> <td>693.947</td>\n",
       "        </tr>\n",
       "    </tbody>\n",
       "        <tr>\n",
       "            <td>8      </td> <td>1080.43</td> <td>1151.42</td>\n",
       "        </tr>\n",
       "    </tbody>\n",
       "        <tr>\n",
       "            <td>9      </td> <td>898.143</td> <td>943.947</td>\n",
       "        </tr>\n",
       "    </tbody>\n",
       "        <tr>\n",
       "            <td>10     </td> <td>506.786</td> <td>552.895</td>\n",
       "        </tr>\n",
       "    </tbody>\n",
       "</table>\n",
       "<p>... (473 rows omitted)</p"
      ],
      "text/plain": [
       "<IPython.core.display.HTML object>"
      ]
     },
     "metadata": {},
     "output_type": "display_data"
    }
   ],
   "source": [
    "### financial data ###\n",
    "fin6_7 = update_financial_data(Table.read_table(\"financials6p_7p.csv\"))\n",
    "fin7_6 = update_financial_data(Table.read_table(\"financials7a_6p.csv\"))\n",
    "fin7_8 = update_financial_data(Table.read_table(\"financials7p_8p.csv\"))\n",
    "fin8_9 = update_financial_data(Table.read_table(\"financials8p_9p.csv\"))\n",
    "\n",
    "financial_data = [fin6_7, fin7_6, fin7_8, fin8_9]\n",
    "\n",
    "for f in financial_data:\n",
    "    f.show(10)"
   ]
  },
  {
   "cell_type": "code",
   "execution_count": 91,
   "metadata": {
    "collapsed": false
   },
   "outputs": [
    {
     "data": {
      "text/html": [
       "<table border=\"1\" class=\"dataframe\">\n",
       "    <thead>\n",
       "        <tr>\n",
       "            <th>StoreID</th> <th>before</th> <th>after</th> <th>Store Type</th> <th>Store Location</th> <th>Associates per Open Hour\r",
       "Pre 4/5/2016</th> <th>Associates per Open Hour\r",
       "Post 4/5/2016</th> <th>Open Time Pre 4/5/2016</th> <th>Open Time Post 4/5/2016</th> <th>Close Time Pre 4/5/2016</th> <th>Close Time Post 4/5/2016</th> <th>Store Age</th> <th>Population within 5mi\r",
       "(1000s)</th> <th>Competition within 5mi</th>\n",
       "        </tr>\n",
       "    </thead>\n",
       "    <tbody>\n",
       "        <tr>\n",
       "            <td>21     </td> <td>240.643</td> <td>275.868</td> <td>Strip Mall</td> <td>Urban         </td> <td>24                                   </td> <td>24                                    </td> <td>7:00                  </td> <td>7:00                   </td> <td>21:00                  </td> <td>19:00                   </td> <td>24       </td> <td>12                           </td> <td>96                    </td>\n",
       "        </tr>\n",
       "    </tbody>\n",
       "        <tr>\n",
       "            <td>31     </td> <td>442.929</td> <td>474.053</td> <td>Strip Mall</td> <td>Urban         </td> <td>24                                   </td> <td>24                                    </td> <td>7:00                  </td> <td>7:00                   </td> <td>21:00                  </td> <td>19:00                   </td> <td>13       </td> <td>30                           </td> <td>1                     </td>\n",
       "        </tr>\n",
       "    </tbody>\n",
       "        <tr>\n",
       "            <td>71     </td> <td>567.929</td> <td>620.474</td> <td>Strip Mall</td> <td>Urban         </td> <td>24                                   </td> <td>24                                    </td> <td>7:00                  </td> <td>7:00                   </td> <td>21:00                  </td> <td>19:00                   </td> <td>21       </td> <td>400                          </td> <td>31                    </td>\n",
       "        </tr>\n",
       "    </tbody>\n",
       "        <tr>\n",
       "            <td>102    </td> <td>324.286</td> <td>361.237</td> <td>Standalone</td> <td>Suburban      </td> <td>24                                   </td> <td>24                                    </td> <td>7:00                  </td> <td>7:00                   </td> <td>21:00                  </td> <td>19:00                   </td> <td>21       </td> <td>61                           </td> <td>2                     </td>\n",
       "        </tr>\n",
       "    </tbody>\n",
       "        <tr>\n",
       "            <td>104    </td> <td>838.214</td> <td>928.684</td> <td>Standalone</td> <td>Urban         </td> <td>24                                   </td> <td>24                                    </td> <td>7:00                  </td> <td>7:00                   </td> <td>21:00                  </td> <td>19:00                   </td> <td>33       </td> <td>193                          </td> <td>8                     </td>\n",
       "        </tr>\n",
       "    </tbody>\n",
       "        <tr>\n",
       "            <td>116    </td> <td>209.357</td> <td>231.684</td> <td>Standalone</td> <td>Suburban      </td> <td>24                                   </td> <td>24                                    </td> <td>7:00                  </td> <td>7:00                   </td> <td>21:00                  </td> <td>19:00                   </td> <td>34       </td> <td>210                          </td> <td>14                    </td>\n",
       "        </tr>\n",
       "    </tbody>\n",
       "        <tr>\n",
       "            <td>155    </td> <td>549.643</td> <td>589.737</td> <td>Standalone</td> <td>Suburban      </td> <td>24                                   </td> <td>24                                    </td> <td>7:00                  </td> <td>7:00                   </td> <td>21:00                  </td> <td>19:00                   </td> <td>26       </td> <td>448                          </td> <td>31                    </td>\n",
       "        </tr>\n",
       "    </tbody>\n",
       "        <tr>\n",
       "            <td>173    </td> <td>808.357</td> <td>831.895</td> <td>Standalone</td> <td>Urban         </td> <td>24                                   </td> <td>24                                    </td> <td>7:00                  </td> <td>7:00                   </td> <td>21:00                  </td> <td>19:00                   </td> <td>31       </td> <td>264                          </td> <td>43                    </td>\n",
       "        </tr>\n",
       "    </tbody>\n",
       "        <tr>\n",
       "            <td>188    </td> <td>849.571</td> <td>884.5  </td> <td>Strip Mall</td> <td>Suburban      </td> <td>24                                   </td> <td>24                                    </td> <td>7:00                  </td> <td>7:00                   </td> <td>21:00                  </td> <td>19:00                   </td> <td>21       </td> <td>436                          </td> <td>21                    </td>\n",
       "        </tr>\n",
       "    </tbody>\n",
       "        <tr>\n",
       "            <td>223    </td> <td>685.929</td> <td>735.158</td> <td>Strip Mall</td> <td>Metropolitan  </td> <td>24                                   </td> <td>24                                    </td> <td>7:00                  </td> <td>7:00                   </td> <td>21:00                  </td> <td>19:00                   </td> <td>20       </td> <td>11                           </td> <td>13                    </td>\n",
       "        </tr>\n",
       "    </tbody>\n",
       "</table>\n",
       "<p>... (20 rows omitted)</p"
      ],
      "text/plain": [
       "StoreID | before  | after   | Store Type | Store Location | Associates per Open Hour\n",
       "Pre 4/5/2016 | Associates per Open Hour\n",
       "Post 4/5/2016 | Open Time Pre 4/5/2016 | Open Time Post 4/5/2016 | Close Time Pre 4/5/2016 | Close Time Post 4/5/2016 | Store Age | Population within 5mi\n",
       "(1000s) | Competition within 5mi\n",
       "21      | 240.643 | 275.868 | Strip Mall | Urban          | 24                                    | 24                                     | 7:00                   | 7:00                    | 21:00                   | 19:00                    | 24        | 12                            | 96\n",
       "31      | 442.929 | 474.053 | Strip Mall | Urban          | 24                                    | 24                                     | 7:00                   | 7:00                    | 21:00                   | 19:00                    | 13        | 30                            | 1\n",
       "71      | 567.929 | 620.474 | Strip Mall | Urban          | 24                                    | 24                                     | 7:00                   | 7:00                    | 21:00                   | 19:00                    | 21        | 400                           | 31\n",
       "102     | 324.286 | 361.237 | Standalone | Suburban       | 24                                    | 24                                     | 7:00                   | 7:00                    | 21:00                   | 19:00                    | 21        | 61                            | 2\n",
       "104     | 838.214 | 928.684 | Standalone | Urban          | 24                                    | 24                                     | 7:00                   | 7:00                    | 21:00                   | 19:00                    | 33        | 193                           | 8\n",
       "116     | 209.357 | 231.684 | Standalone | Suburban       | 24                                    | 24                                     | 7:00                   | 7:00                    | 21:00                   | 19:00                    | 34        | 210                           | 14\n",
       "155     | 549.643 | 589.737 | Standalone | Suburban       | 24                                    | 24                                     | 7:00                   | 7:00                    | 21:00                   | 19:00                    | 26        | 448                           | 31\n",
       "173     | 808.357 | 831.895 | Standalone | Urban          | 24                                    | 24                                     | 7:00                   | 7:00                    | 21:00                   | 19:00                    | 31        | 264                           | 43\n",
       "188     | 849.571 | 884.5   | Strip Mall | Suburban       | 24                                    | 24                                     | 7:00                   | 7:00                    | 21:00                   | 19:00                    | 21        | 436                           | 21\n",
       "223     | 685.929 | 735.158 | Strip Mall | Metropolitan   | 24                                    | 24                                     | 7:00                   | 7:00                    | 21:00                   | 19:00                    | 20        | 11                            | 13\n",
       "... (20 rows omitted)"
      ]
     },
     "execution_count": 91,
     "metadata": {},
     "output_type": "execute_result"
    }
   ],
   "source": [
    "\n",
    "fin8_9.join(\"StoreID\", master7_24)"
   ]
  },
  {
   "cell_type": "code",
   "execution_count": null,
   "metadata": {
    "collapsed": true
   },
   "outputs": [],
   "source": []
  },
  {
   "cell_type": "code",
   "execution_count": null,
   "metadata": {
    "collapsed": true
   },
   "outputs": [],
   "source": []
  }
 ],
 "metadata": {
  "kernelspec": {
   "display_name": "Python 3",
   "language": "python",
   "name": "python3"
  },
  "language_info": {
   "codemirror_mode": {
    "name": "ipython",
    "version": 3
   },
   "file_extension": ".py",
   "mimetype": "text/x-python",
   "name": "python",
   "nbconvert_exporter": "python",
   "pygments_lexer": "ipython3",
   "version": "3.6.0"
  }
 },
 "nbformat": 4,
 "nbformat_minor": 2
}
